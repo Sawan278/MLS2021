{
 "cells": [
  {
   "cell_type": "code",
   "execution_count": 10,
   "metadata": {},
   "outputs": [],
   "source": [
    "import numpy as np\n",
    "import sklearn\n",
    "from matplotlib import pyplot as plt\n",
    "from sklearn.preprocessing import StandardScaler\n",
    "from sklearn.linear_model import LogisticRegression\n",
    "from sklearn.datasets import make_classification\n",
    "from sklearn.model_selection import train_test_split\n",
    "from sklearn.datasets import load_breast_cancer\n",
    "from sklearn.linear_model import LogisticRegression\n",
    "from sklearn.metrics import roc_curve\n",
    "from sklearn import metrics"
   ]
  },
  {
   "cell_type": "code",
   "execution_count": 7,
   "metadata": {},
   "outputs": [],
   "source": [
    "# load load_breast_cancer\n",
    "data = sklearn.datasets.load_breast_cancer()\n",
    "x1 = np.where(data[\"feature_names\"] == \"mean area\")[0][0]\n",
    "y1 = np.where(data[\"feature_names\"] == \"mean concave points\")[0][0]"
   ]
  },
  {
   "cell_type": "code",
   "execution_count": 8,
   "metadata": {},
   "outputs": [
    {
     "data": {
      "text/plain": [
       "StandardScaler()"
      ]
     },
     "execution_count": 8,
     "metadata": {},
     "output_type": "execute_result"
    }
   ],
   "source": [
    "# normalize (use StandardScaler if you wish)\n",
    "x0 = np.asarray([data[\"data\"][:,x1], data[\"data\"][:,y1], np.ones(data[\"data\"].shape[0])]).T\n",
    "y0 = (1.*(data[\"target\"]==np.where(data[\"target_names\"] == \"malignant\")[0][0]) +\n",
    "     -1.*(data[\"target\"]==np.where(data[\"target_names\"] == \"benign\")[0][0]))\n",
    "X,y = x0.copy()[:,:-1],y0.copy() \n",
    "norm = StandardScaler()\n",
    "norm.fit(X)"
   ]
  },
  {
   "cell_type": "code",
   "execution_count": 9,
   "metadata": {},
   "outputs": [],
   "source": [
    "# partition with test size 0.3\n",
    "X_train,X_test,y_train,y_test = train_test_split(X,y,test_size=0.3,random_state=0)"
   ]
  },
  {
   "cell_type": "code",
   "execution_count": 17,
   "metadata": {},
   "outputs": [],
   "source": [
    "# fit logistic regression and draw ROC curve\n",
    "# use predict_log_proba()\n",
    "l_reg = LogisticRegression(random_state=45)\n",
    "l_reg.fit(X_train, y_train)\n",
    "n_prob =[0 for _ in range(len(y_test))]\n",
    "l_prob = l_reg.predict_log_proba(X_test)\n",
    "l_prob= l_prob[:,1]\n",
    "\n",
    "#ROC Curve\n",
    "n_fpr, n_tpr, _ = roc_curve(y_test,n_prob)\n",
    "l_fpr, l_tpr, _ = roc_curve(y_test, l_prob)"
   ]
  },
  {
   "cell_type": "code",
   "execution_count": 18,
   "metadata": {},
   "outputs": [
    {
     "data": {
      "image/png": "[encoded data removed]",
      "text/plain": [
       "<Figure size 432x288 with 1 Axes>"
      ]
     },
     "metadata": {
      "needs_background": "light"
     },
     "output_type": "display_data"
    }
   ],
   "source": [
    "plt.title(\"ROC Curve\")\n",
    "plt.plot(n_fpr,n_tpr,'r--')\n",
    "plt.plot(l_fpr,l_tpr, marker='*')\n",
    "plt.xlabel('False Positive Rate')\n",
    "plt.ylabel('True Positive Rate')\n",
    "plt.show()"
   ]
  },
  {
   "cell_type": "code",
   "execution_count": null,
   "metadata": {},
   "outputs": [],
   "source": [
    "# What happens to the mean accuracy on the given test data, that is \"score\", when C = 1, 1/10, 1/50, 1/100, 1/1000?"
   ]
  }
 ],
 "metadata": {
  "kernelspec": {
   "display_name": "Python 3",
   "language": "python",
   "name": "python3"
  },
  "language_info": {
   "codemirror_mode": {
    "name": "ipython",
    "version": 3
   },
   "file_extension": ".py",
   "mimetype": "text/x-python",
   "name": "python",
   "nbconvert_exporter": "python",
   "pygments_lexer": "ipython3",
   "version": "3.8.5"
  }
 },
 "nbformat": 4,
 "nbformat_minor": 4
}
