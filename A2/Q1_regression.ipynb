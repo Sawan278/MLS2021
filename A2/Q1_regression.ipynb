{
 "cells": [
  {
   "cell_type": "code",
   "execution_count": 68,
   "metadata": {},
   "outputs": [],
   "source": [
    "# import necessary modules\n",
    "import numpy as np\n",
    "import matplotlib.pyplot as plt\n",
    "import pandas as pd\n",
    "import house_sales_data as hsd\n",
    "from sklearn.model_selection import train_test_split"
   ]
  },
  {
   "cell_type": "code",
   "execution_count": 69,
   "metadata": {},
   "outputs": [
    {
     "name": "stdout",
     "output_type": "stream",
     "text": [
      "dict_keys(['price', 'area', 'beds', 'baths', 'condo', 'location'])\n"
     ]
    }
   ],
   "source": [
    "## Sacramento house price data; load\n",
    "data = hsd.house_sales_data() \n",
    "print(data.keys())\n",
    "\n",
    "## Get the target (i.e., price) and two features\n",
    "price = data['price']\n",
    "area = data['area']\n",
    "beds = data['beds']"
   ]
  },
  {
   "cell_type": "code",
   "execution_count": 70,
   "metadata": {},
   "outputs": [],
   "source": [
    "# Implement gradient descent (NOT SGD, just simple GD!)\n",
    "def gradient_descent(X, y, max_iteration, learning_rate):\n",
    "    m, n = X.shape\n",
    "    theta = np.zeros(n)\n",
    "    costs = np.zeros(max_iteration)\n",
    "    for t in range(max_iteration):\n",
    "        gradient = np.zeros(n)\n",
    "        for i in range(m):\n",
    "            yhat = X[i] @ theta\n",
    "            costs[t] = costs[t] + (1/m * (yhat - y[i])**2)\n",
    "            for j in range(n):\n",
    "                gradient[j] = gradient [j] + (1/m * 2 * (yhat - y[i])*X[i,j])\n",
    "        theta = theta - (learning_rate * gradient)\n",
    "    return theta, costs"
   ]
  },
  {
   "cell_type": "code",
   "execution_count": 71,
   "metadata": {},
   "outputs": [],
   "source": [
    "# Normalize data \n",
    "def normalize_data(X, y, normalize_cols):\n",
    "    min_X = X[:,normalize_cols].min(axis=0)\n",
    "    max_X = X[:,normalize_cols].max(axis=0)\n",
    "    min_y = y.min()\n",
    "    max_y = y.max()\n",
    "    X[:,normalize_cols] = (X[:,normalize_cols] - min_X) / (max_X - min_X)\n",
    "    y[:] = (y - min_y) / (max_y - min_y)\n",
    "    return X, y, min_X, max_X, min_y, max_y"
   ]
  },
  {
   "cell_type": "code",
   "execution_count": 72,
   "metadata": {},
   "outputs": [],
   "source": [
    "# Implement an evaluation metric for regression\n",
    "def evaluation_metric(y,y_hat):\n",
    "    mse=sum((y-y_hat)**2)\n",
    "    return mse"
   ]
  },
  {
   "cell_type": "code",
   "execution_count": 73,
   "metadata": {},
   "outputs": [],
   "source": [
    "# Prepare data this way\n",
    "X_train = np.hstack((area[:,np.newaxis], beds[:,np.newaxis], np.ones(area.shape[0])[:,np.newaxis]))\n",
    "y_train = price\n",
    "X, y, min_X, max_X, min_y, max_y = normalize_data(X_train, y_train, [True, True, False])\n",
    "X_train, X_test, y_train, y_test = train_test_split(X, y, test_size=0.2, random_state=42)"
   ]
  },
  {
   "cell_type": "code",
   "execution_count": 74,
   "metadata": {},
   "outputs": [],
   "source": [
    "# call gradient descent and fine-tune your learning rate\n",
    "theta, costs = gradient_descent(X_train, y_train, 501, 0.01)"
   ]
  },
  {
   "cell_type": "code",
   "execution_count": 75,
   "metadata": {},
   "outputs": [
    {
     "data": {
      "text/plain": [
       "[<matplotlib.lines.Line2D at 0x7fef33e701f0>]"
      ]
     },
     "execution_count": 75,
     "metadata": {},
     "output_type": "execute_result"
    },
    {
     "data": {
      "image/png": "[encoded data removed]",
      "text/plain": [
       "<Figure size 432x288 with 1 Axes>"
      ]
     },
     "metadata": {
      "needs_background": "light"
     },
     "output_type": "display_data"
    }
   ],
   "source": [
    "# plot cost vs iterations \n",
    "# note gradient descent return costs for all iterations\n",
    "plt.plot(range(len(costs)),costs)"
   ]
  },
  {
   "cell_type": "code",
   "execution_count": null,
   "metadata": {},
   "outputs": [],
   "source": []
  },
  {
   "cell_type": "code",
   "execution_count": 76,
   "metadata": {},
   "outputs": [
    {
     "name": "stdout",
     "output_type": "stream",
     "text": [
      "Evaluation Metric :  2.9173848817649115\n",
      "The values of evaluation metric :  [2.1496909180963875, 2.1084649644828963, 2.076177103517404, 2.0509750143156413, 2.031312279984596, 2.015937673167331, 2.0038686012673805, 1.9943471211379844, 1.9867937590432079, 1.9807669134426926, 1.9759299663644492, 1.972025705950086, 1.968856848669283, 1.9662713632194175, 1.9641514657484767, 1.9624053800274261]\n",
      "The best value of evaluation metric we get :  1.9624053800274261\n"
     ]
    }
   ],
   "source": [
    "# print evaluation metric for test set while\n",
    "y_pred = X_test@theta\n",
    "print('Evaluation Metric : ' , evaluation_metric(y_test,y_pred))\n",
    " \n",
    "# changing max_iteration from 500 to 2000\n",
    "eval_mat=[]\n",
    "for iters in list(range(500 , 2001 , 100)):\n",
    "    theta , error = gradient_descent(X_train, y_train, iters, 0.1)\n",
    "    y_hat = X_test@theta\n",
    "    eval_mat.append(evaluation_metric(y_test,y_hat))\n",
    "print(\"The values of evaluation metric : \", eval_mat)\n",
    "print(\"The best value of evaluation metric we get : \", eval_mat[-1])"
   ]
  },
  {
   "cell_type": "code",
   "execution_count": 77,
   "metadata": {},
   "outputs": [
    {
     "name": "stdout",
     "output_type": "stream",
     "text": [
      "Best Evaluated Value  1.9624053800274261\n",
      "sk-learn value  3.0872320784172915\n"
     ]
    }
   ],
   "source": [
    "best_value=eval_mat[-1]\n",
    "y_pred = X_test@model.coef_\n",
    "sk_value = evaluation_metric(y_test,y_pred)\n",
    "print('Best Evaluated Value ' ,best_value)\n",
    "print('sk-learn value ',sk_value)"
   ]
  },
  {
   "cell_type": "code",
   "execution_count": 78,
   "metadata": {},
   "outputs": [],
   "source": [
    "# compare your solution with scikit-learn library\n",
    "#from sklearn import datasets, linear_model\n",
    "from sklearn.linear_model import LinearRegression"
   ]
  },
  {
   "cell_type": "code",
   "execution_count": 79,
   "metadata": {},
   "outputs": [],
   "source": [
    "# Create linear regression object\n",
    "model= LinearRegression()"
   ]
  },
  {
   "cell_type": "code",
   "execution_count": 80,
   "metadata": {},
   "outputs": [
    {
     "data": {
      "text/plain": [
       "LinearRegression()"
      ]
     },
     "execution_count": 80,
     "metadata": {},
     "output_type": "execute_result"
    }
   ],
   "source": [
    "# Train the model using the training sets\n",
    "X_train = np.hstack((area[:,np.newaxis], beds[:,np.newaxis], np.ones(area.shape[0])[:,np.newaxis]))\n",
    "y_train = price\n",
    "X,y,min_X, max_X, min_y, max_y = normalize_data(X_train, y_train, [True, True, False])\n",
    "X_train, X_test, y_train, y_test = train_test_split(X, y, test_size=0.2, random_state=40)\n",
    "\n",
    "model.fit(X_train,y_train)"
   ]
  },
  {
   "cell_type": "code",
   "execution_count": 81,
   "metadata": {},
   "outputs": [
    {
     "data": {
      "text/plain": [
       "array([0.29777764, 0.19146489, 0.29315861, 0.33165052, 0.12701844,\n",
       "       0.19571909, 0.50262969, 0.22475299, 0.31346944, 0.26588434,\n",
       "       0.18736085, 0.57851374, 0.20363743, 0.38275488, 0.45270018,\n",
       "       0.49141204, 0.14806419, 0.19579416, 0.22482806, 0.16976454,\n",
       "       0.70748173, 0.17196408, 0.12731346, 0.29051917, 0.59567013,\n",
       "       0.34814706, 0.15891173, 0.11822028, 0.20363743, 0.19549914,\n",
       "       0.19652383, 0.15766709, 0.39419247, 0.34470287, 0.24234929,\n",
       "       0.1499687 , 0.15077344, 0.28568018, 0.15194829, 0.55512356,\n",
       "       0.23875495, 0.30863045, 0.08222294, 0.15077344, 0.13009779,\n",
       "       0.26009574, 0.28553531, 0.22629266, 0.14073064, 0.1538528 ,\n",
       "       0.21881424, 0.32754648, 0.19843361, 0.3145692 , 0.1091271 ,\n",
       "       0.17342868, 0.14285511, 0.22673257, 0.38341474, 0.1732838 ,\n",
       "       0.35855996, 0.25862587, 0.17174413, 0.44250723, 0.18787583,\n",
       "       0.24938781, 0.25936081, 0.1366964 , 0.21251065, 0.08896643,\n",
       "       0.49654605, 0.23120672, 0.24498874, 0.18948531, 0.36068442,\n",
       "       0.26500453, 0.16382579, 0.4002761 , 0.24836312, 0.30298146,\n",
       "       0.14161046, 0.37065742, 0.29205884, 0.25078261, 0.41376836,\n",
       "       0.23399105, 0.35812005, 0.71671979, 0.32138777, 0.26192518,\n",
       "       0.16104147, 0.28897949, 0.23839012, 0.15121335, 0.17108427,\n",
       "       0.21265553, 0.29997718, 0.28128111, 0.1904402 , 0.33590472,\n",
       "       0.22783234, 0.22915206, 0.16668519, 0.2513674 , 0.49720592,\n",
       "       0.15106847, 0.24102957, 0.18406154, 0.40687472, 0.22739243,\n",
       "       0.34521258, 0.18252186, 0.19865356, 0.29565318, 0.21324032,\n",
       "       0.18912048, 0.17526339, 0.2560615 , 0.32725145, 0.26346485,\n",
       "       0.30225179, 0.2460885 , 0.22695253, 0.15766709, 0.64471983,\n",
       "       0.2603855 , 0.17438357, 0.12877807, 0.45423985, 0.17548334,\n",
       "       0.19461932, 0.17768288, 0.24058966, 0.24058966, 0.16529039,\n",
       "       0.28817475, 0.33304532, 0.65513273, 0.81745862, 0.3798204 ,\n",
       "       0.17188901, 0.21207074, 0.38048026, 0.25950568, 0.30342137,\n",
       "       0.48965241, 0.25972564, 0.25092749, 0.08610703, 0.17548334,\n",
       "       0.21551493, 0.15172833, 0.26419979, 0.2184494 , 0.13354197])"
      ]
     },
     "execution_count": 81,
     "metadata": {},
     "output_type": "execute_result"
    }
   ],
   "source": [
    "# Predict on test set and print evaluation metric\n",
    "pred_data=model.predict(X_test)\n",
    "pred_data\n",
    "# How much does it differ by from your (GD) solution"
   ]
  },
  {
   "cell_type": "code",
   "execution_count": null,
   "metadata": {},
   "outputs": [],
   "source": []
  }
 ],
 "metadata": {
  "kernelspec": {
   "display_name": "Python 3",
   "language": "python",
   "name": "python3"
  },
  "language_info": {
   "codemirror_mode": {
    "name": "ipython",
    "version": 3
   },
   "file_extension": ".py",
   "mimetype": "text/x-python",
   "name": "python",
   "nbconvert_exporter": "python",
   "pygments_lexer": "ipython3",
   "version": "3.8.5"
  }
 },
 "nbformat": 4,
 "nbformat_minor": 4
}
